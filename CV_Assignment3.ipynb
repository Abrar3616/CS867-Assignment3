{
  "nbformat": 4,
  "nbformat_minor": 0,
  "metadata": {
    "colab": {
      "name": "CV-Assignment3.ipynb",
      "provenance": [],
      "collapsed_sections": []
    },
    "kernelspec": {
      "name": "python3",
      "display_name": "Python 3"
    },
    "accelerator": "GPU"
  },
  "cells": [
    {
      "cell_type": "code",
      "metadata": {
        "colab": {
          "base_uri": "https://localhost:8080/",
          "height": 577
        },
        "id": "tktqCz31oAmc",
        "outputId": "ac666748-4c36-419b-ce20-cd871b220306"
      },
      "source": [
        "-!pip install --upgrade --ignore-installed kaggle"
      ],
      "execution_count": null,
      "outputs": [
        {
          "output_type": "stream",
          "text": [
            "Processing /root/.cache/pip/wheels/3a/d1/7e/6ce09b72b770149802c653a02783821629146983ee5a360f10/kaggle-1.5.10-cp36-none-any.whl\n",
            "Collecting python-dateutil\n",
            "  Using cached https://files.pythonhosted.org/packages/d4/70/d60450c3dd48ef87586924207ae8907090de0b306af2bce5d134d78615cb/python_dateutil-2.8.1-py2.py3-none-any.whl\n",
            "Collecting urllib3\n",
            "  Using cached https://files.pythonhosted.org/packages/f5/71/45d36a8df68f3ebb098d6861b2c017f3d094538c0fb98fa61d4dc43e69b9/urllib3-1.26.2-py2.py3-none-any.whl\n",
            "Collecting certifi\n",
            "  Using cached https://files.pythonhosted.org/packages/5e/a0/5f06e1e1d463903cf0c0eebeb751791119ed7a4b3737fdc9a77f1cdfb51f/certifi-2020.12.5-py2.py3-none-any.whl\n",
            "Processing /root/.cache/pip/wheels/67/b8/ba/041548f30a6fc058c9b3f79a5b7b6aea925a15dd1e5c4992a4/python_slugify-4.0.1-py2.py3-none-any.whl\n",
            "Collecting requests\n",
            "  Using cached https://files.pythonhosted.org/packages/29/c1/24814557f1d22c56d50280771a17307e6bf87b70727d975fd6b2ce6b014a/requests-2.25.1-py2.py3-none-any.whl\n",
            "Collecting six>=1.10\n",
            "  Using cached https://files.pythonhosted.org/packages/ee/ff/48bde5c0f013094d729fe4b0316ba2a24774b3ff1c52d924a8a4cb04078a/six-1.15.0-py2.py3-none-any.whl\n",
            "Collecting tqdm\n",
            "  Using cached https://files.pythonhosted.org/packages/05/bb/9403e1f30ed060e16835c9b275620ca89191a41ccc2b995b88efbc32dfd9/tqdm-4.55.0-py2.py3-none-any.whl\n",
            "Collecting text-unidecode>=1.3\n",
            "  Using cached https://files.pythonhosted.org/packages/a6/a5/c0b6468d3824fe3fde30dbb5e1f687b291608f9473681bbf7dabbf5a87d7/text_unidecode-1.3-py2.py3-none-any.whl\n",
            "Collecting idna<3,>=2.5\n",
            "  Using cached https://files.pythonhosted.org/packages/a2/38/928ddce2273eaa564f6f50de919327bf3a00f091b5baba8dfa9460f3a8a8/idna-2.10-py2.py3-none-any.whl\n",
            "Collecting chardet<5,>=3.0.2\n",
            "  Using cached https://files.pythonhosted.org/packages/19/c7/fa589626997dd07bd87d9269342ccb74b1720384a4d739a1872bd84fbe68/chardet-4.0.0-py2.py3-none-any.whl\n",
            "\u001b[31mERROR: nbclient 0.5.1 has requirement jupyter-client>=6.1.5, but you'll have jupyter-client 5.3.5 which is incompatible.\u001b[0m\n",
            "\u001b[31mERROR: google-colab 1.0.0 has requirement requests~=2.23.0, but you'll have requests 2.25.1 which is incompatible.\u001b[0m\n",
            "\u001b[31mERROR: datascience 0.10.6 has requirement folium==0.2.1, but you'll have folium 0.8.3 which is incompatible.\u001b[0m\n",
            "\u001b[31mERROR: albumentations 0.1.12 has requirement imgaug<0.2.7,>=0.2.5, but you'll have imgaug 0.2.9 which is incompatible.\u001b[0m\n",
            "Installing collected packages: six, python-dateutil, urllib3, certifi, text-unidecode, python-slugify, idna, chardet, requests, tqdm, kaggle\n",
            "Successfully installed certifi-2020.12.5 chardet-4.0.0 idna-2.10 kaggle-1.5.10 python-dateutil-2.8.1 python-slugify-4.0.1 requests-2.25.1 six-1.15.0 text-unidecode-1.3 tqdm-4.55.0 urllib3-1.26.2\n"
          ],
          "name": "stdout"
        },
        {
          "output_type": "display_data",
          "data": {
            "application/vnd.colab-display-data+json": {
              "pip_warning": {
                "packages": [
                  "dateutil",
                  "six"
                ]
              }
            }
          },
          "metadata": {
            "tags": []
          }
        }
      ]
    },
    {
      "cell_type": "code",
      "metadata": {
        "colab": {
          "resources": {
            "http://localhost:8080/nbextensions/google.colab/files.js": {
              "data": "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",
              "ok": true,
              "headers": [
                [
                  "content-type",
                  "application/javascript"
                ]
              ],
              "status": 200,
              "status_text": "OK"
            }
          },
          "base_uri": "https://localhost:8080/",
          "height": 96
        },
        "id": "OLvnr4rioOMX",
        "outputId": "b3b3da4f-e048-4e6b-e894-c8add753e29f"
      },
      "source": [
        "from google.colab import files\n",
        "files.upload()"
      ],
      "execution_count": null,
      "outputs": [
        {
          "output_type": "display_data",
          "data": {
            "text/html": [
              "\n",
              "     <input type=\"file\" id=\"files-e4336abf-19c4-482c-946d-c6091ef880a9\" name=\"files[]\" multiple disabled\n",
              "        style=\"border:none\" />\n",
              "     <output id=\"result-e4336abf-19c4-482c-946d-c6091ef880a9\">\n",
              "      Upload widget is only available when the cell has been executed in the\n",
              "      current browser session. Please rerun this cell to enable.\n",
              "      </output>\n",
              "      <script src=\"/nbextensions/google.colab/files.js\"></script> "
            ],
            "text/plain": [
              "<IPython.core.display.HTML object>"
            ]
          },
          "metadata": {
            "tags": []
          }
        },
        {
          "output_type": "stream",
          "text": [
            "Saving kaggle.json to kaggle (1).json\n"
          ],
          "name": "stdout"
        },
        {
          "output_type": "execute_result",
          "data": {
            "text/plain": [
              "{'kaggle.json': b'{\"username\":\"abraranwarqureshi\",\"key\":\"9d5eceb9384d08f498e32d1b2e2b212d\"}'}"
            ]
          },
          "metadata": {
            "tags": []
          },
          "execution_count": 4
        }
      ]
    },
    {
      "cell_type": "code",
      "metadata": {
        "id": "xermTNbuoXRx"
      },
      "source": [
        "!mkdir ~/.kaggle #created at root folder in colab"
      ],
      "execution_count": null,
      "outputs": []
    },
    {
      "cell_type": "code",
      "metadata": {
        "id": "LBLdkqWnoc0x"
      },
      "source": [
        "#copy\n",
        "!cp kaggle.json ~/.kaggle"
      ],
      "execution_count": null,
      "outputs": []
    },
    {
      "cell_type": "code",
      "metadata": {
        "id": "7qR8wt6cogs4"
      },
      "source": [
        "! chmod 600 ~/.kaggle/kaggle.json"
      ],
      "execution_count": null,
      "outputs": []
    },
    {
      "cell_type": "code",
      "metadata": {
        "id": "MHHiwoUtolQ7"
      },
      "source": [
        "! kaggle datasets list"
      ],
      "execution_count": null,
      "outputs": []
    },
    {
      "cell_type": "code",
      "metadata": {
        "id": "Jyl-WivJppeO"
      },
      "source": [
        "!kaggle datasets download -d puneet6060/intel-image-classification"
      ],
      "execution_count": null,
      "outputs": []
    },
    {
      "cell_type": "code",
      "metadata": {
        "id": "JLPI-s70p-4H"
      },
      "source": [
        "!unzip -q intel-image-classification.zip"
      ],
      "execution_count": null,
      "outputs": []
    },
    {
      "cell_type": "code",
      "metadata": {
        "colab": {
          "base_uri": "https://localhost:8080/"
        },
        "id": "a2zOsnIQqEDe",
        "outputId": "5add90ed-5b0a-4ecb-e489-1b5b9ed0620e"
      },
      "source": [
        "from google.colab import drive\n",
        "drive.mount('/content/drive')\n",
        "path = \"/content/drive/My Drive/\""
      ],
      "execution_count": 32,
      "outputs": [
        {
          "output_type": "stream",
          "text": [
            "Drive already mounted at /content/drive; to attempt to forcibly remount, call drive.mount(\"/content/drive\", force_remount=True).\n"
          ],
          "name": "stdout"
        }
      ]
    },
    {
      "cell_type": "code",
      "metadata": {
        "id": "LTU9oZsmt1Ud"
      },
      "source": [
        "from keras.applications.resnet50 import ResNet50\n",
        "from keras.models import Model\n",
        "from keras.layers import Dense\n",
        "from keras.layers import Flatten"
      ],
      "execution_count": 4,
      "outputs": []
    },
    {
      "cell_type": "code",
      "metadata": {
        "id": "Y8O_Td0Pt47p",
        "colab": {
          "base_uri": "https://localhost:8080/"
        },
        "outputId": "84a754a1-cd29-4855-d2c4-8c06110c1cb3"
      },
      "source": [
        "# Select model for classification with weights trained for imagenet\n",
        "model = ResNet50(weights='imagenet', include_top=False, input_shape=(150, 150, 3))"
      ],
      "execution_count": 5,
      "outputs": [
        {
          "output_type": "stream",
          "text": [
            "Downloading data from https://storage.googleapis.com/tensorflow/keras-applications/resnet/resnet50_weights_tf_dim_ordering_tf_kernels_notop.h5\n",
            "94773248/94765736 [==============================] - 1s 0us/step\n"
          ],
          "name": "stdout"
        }
      ]
    },
    {
      "cell_type": "code",
      "metadata": {
        "id": "dOoP7yHCumo7"
      },
      "source": [
        "# Add custom layers\n",
        "flat1 = Flatten()(model.layers[-1].output) # flatten last layer\n",
        "class1 = Dense(1024, activation='relu')(flat1) # add FC layer on previous layer\n",
        "output = Dense(6, activation='softmax')(class1) # add softmax layer"
      ],
      "execution_count": 6,
      "outputs": []
    },
    {
      "cell_type": "code",
      "metadata": {
        "colab": {
          "base_uri": "https://localhost:8080/"
        },
        "id": "erXEYgP5mZ3f",
        "outputId": "0bc1c3ff-75db-4a5e-8b78-547503097e3f"
      },
      "source": [
        "# Only make new added layers trainable\n",
        "for layer in model.layers[:-3]:\n",
        "\t    layer.trainable = False\n",
        "\n",
        "for layer in model.layers:\n",
        "\t    print(layer, layer.trainable)"
      ],
      "execution_count": 7,
      "outputs": [
        {
          "output_type": "stream",
          "text": [
            "<tensorflow.python.keras.engine.input_layer.InputLayer object at 0x7f1e802c12e8> False\n",
            "<tensorflow.python.keras.layers.convolutional.ZeroPadding2D object at 0x7f1e7fa203c8> False\n",
            "<tensorflow.python.keras.layers.convolutional.Conv2D object at 0x7f1e7fa20550> False\n",
            "<tensorflow.python.keras.layers.normalization_v2.BatchNormalization object at 0x7f1e7fa20ac8> False\n",
            "<tensorflow.python.keras.layers.core.Activation object at 0x7f1e46703278> False\n",
            "<tensorflow.python.keras.layers.convolutional.ZeroPadding2D object at 0x7f1e46737240> False\n",
            "<tensorflow.python.keras.layers.pooling.MaxPooling2D object at 0x7f1e467347b8> False\n",
            "<tensorflow.python.keras.layers.convolutional.Conv2D object at 0x7f1e4677c6a0> False\n",
            "<tensorflow.python.keras.layers.normalization_v2.BatchNormalization object at 0x7f1e4d63d2b0> False\n",
            "<tensorflow.python.keras.layers.core.Activation object at 0x7f1e4d6b2ac8> False\n",
            "<tensorflow.python.keras.layers.convolutional.Conv2D object at 0x7f1e4d6af438> False\n",
            "<tensorflow.python.keras.layers.normalization_v2.BatchNormalization object at 0x7f1e4d714748> False\n",
            "<tensorflow.python.keras.layers.core.Activation object at 0x7f1e7fa20978> False\n",
            "<tensorflow.python.keras.layers.convolutional.Conv2D object at 0x7f1e46789d30> False\n",
            "<tensorflow.python.keras.layers.convolutional.Conv2D object at 0x7f1e303e30f0> False\n",
            "<tensorflow.python.keras.layers.normalization_v2.BatchNormalization object at 0x7f1e46734a20> False\n",
            "<tensorflow.python.keras.layers.normalization_v2.BatchNormalization object at 0x7f1e303e3cf8> False\n",
            "<tensorflow.python.keras.layers.merge.Add object at 0x7f1e303ea390> False\n",
            "<tensorflow.python.keras.layers.core.Activation object at 0x7f1e303efa20> False\n",
            "<tensorflow.python.keras.layers.convolutional.Conv2D object at 0x7f1e303fc1d0> False\n",
            "<tensorflow.python.keras.layers.normalization_v2.BatchNormalization object at 0x7f1e303fcdd8> False\n",
            "<tensorflow.python.keras.layers.core.Activation object at 0x7f1e303fc358> False\n",
            "<tensorflow.python.keras.layers.convolutional.Conv2D object at 0x7f1e3040a358> False\n",
            "<tensorflow.python.keras.layers.normalization_v2.BatchNormalization object at 0x7f1e3040af98> False\n",
            "<tensorflow.python.keras.layers.core.Activation object at 0x7f1e30391240> False\n",
            "<tensorflow.python.keras.layers.convolutional.Conv2D object at 0x7f1e30400438> False\n",
            "<tensorflow.python.keras.layers.normalization_v2.BatchNormalization object at 0x7f1e3039a630> False\n",
            "<tensorflow.python.keras.layers.merge.Add object at 0x7f1e3039af60> False\n",
            "<tensorflow.python.keras.layers.core.Activation object at 0x7f1e303a7358> False\n",
            "<tensorflow.python.keras.layers.convolutional.Conv2D object at 0x7f1e303a7ac8> False\n",
            "<tensorflow.python.keras.layers.normalization_v2.BatchNormalization object at 0x7f1e303ae710> False\n",
            "<tensorflow.python.keras.layers.core.Activation object at 0x7f1e303ae908> False\n",
            "<tensorflow.python.keras.layers.convolutional.Conv2D object at 0x7f1e303b5c50> False\n",
            "<tensorflow.python.keras.layers.normalization_v2.BatchNormalization object at 0x7f1e303bb898> False\n",
            "<tensorflow.python.keras.layers.core.Activation object at 0x7f1e303bb4e0> False\n",
            "<tensorflow.python.keras.layers.convolutional.Conv2D object at 0x7f1e303cb390> False\n",
            "<tensorflow.python.keras.layers.normalization_v2.BatchNormalization object at 0x7f1e303cbfd0> False\n",
            "<tensorflow.python.keras.layers.merge.Add object at 0x7f1e30350c50> False\n",
            "<tensorflow.python.keras.layers.core.Activation object at 0x7f1e30359cc0> False\n",
            "<tensorflow.python.keras.layers.convolutional.Conv2D object at 0x7f1e30368cf8> False\n",
            "<tensorflow.python.keras.layers.normalization_v2.BatchNormalization object at 0x7f1e30350080> False\n",
            "<tensorflow.python.keras.layers.core.Activation object at 0x7f1e303c25f8> False\n",
            "<tensorflow.python.keras.layers.convolutional.Conv2D object at 0x7f1e303b5f60> False\n",
            "<tensorflow.python.keras.layers.normalization_v2.BatchNormalization object at 0x7f1e303a1828> False\n",
            "<tensorflow.python.keras.layers.core.Activation object at 0x7f1e3040ac50> False\n",
            "<tensorflow.python.keras.layers.convolutional.Conv2D object at 0x7f1e30361470> False\n",
            "<tensorflow.python.keras.layers.convolutional.Conv2D object at 0x7f1e303b57f0> False\n",
            "<tensorflow.python.keras.layers.normalization_v2.BatchNormalization object at 0x7f1e303680b8> False\n",
            "<tensorflow.python.keras.layers.normalization_v2.BatchNormalization object at 0x7f1e303ea7b8> False\n",
            "<tensorflow.python.keras.layers.merge.Add object at 0x7f1e7fa22b70> False\n",
            "<tensorflow.python.keras.layers.core.Activation object at 0x7f1e303ef358> False\n",
            "<tensorflow.python.keras.layers.convolutional.Conv2D object at 0x7f1e4d6af5c0> False\n",
            "<tensorflow.python.keras.layers.normalization_v2.BatchNormalization object at 0x7f1e466f0ac8> False\n",
            "<tensorflow.python.keras.layers.core.Activation object at 0x7f1e466f9be0> False\n",
            "<tensorflow.python.keras.layers.convolutional.Conv2D object at 0x7f1e3036d160> False\n",
            "<tensorflow.python.keras.layers.normalization_v2.BatchNormalization object at 0x7f1e3037b080> False\n",
            "<tensorflow.python.keras.layers.core.Activation object at 0x7f1e3037b908> False\n",
            "<tensorflow.python.keras.layers.convolutional.Conv2D object at 0x7f1e30384b38> False\n",
            "<tensorflow.python.keras.layers.normalization_v2.BatchNormalization object at 0x7f1e30389780> False\n",
            "<tensorflow.python.keras.layers.merge.Add object at 0x7f1e303113c8> False\n",
            "<tensorflow.python.keras.layers.core.Activation object at 0x7f1e30384c88> False\n",
            "<tensorflow.python.keras.layers.convolutional.Conv2D object at 0x7f1e30318c18> False\n",
            "<tensorflow.python.keras.layers.normalization_v2.BatchNormalization object at 0x7f1e3031e860> False\n",
            "<tensorflow.python.keras.layers.core.Activation object at 0x7f1e3031e470> False\n",
            "<tensorflow.python.keras.layers.convolutional.Conv2D object at 0x7f1e30328278> False\n",
            "<tensorflow.python.keras.layers.normalization_v2.BatchNormalization object at 0x7f1e3032f9e8> False\n",
            "<tensorflow.python.keras.layers.core.Activation object at 0x7f1e30334d68> False\n",
            "<tensorflow.python.keras.layers.convolutional.Conv2D object at 0x7f1e3033d4e0> False\n",
            "<tensorflow.python.keras.layers.normalization_v2.BatchNormalization object at 0x7f1e30341128> False\n",
            "<tensorflow.python.keras.layers.merge.Add object at 0x7f1e303284a8> False\n",
            "<tensorflow.python.keras.layers.core.Activation object at 0x7f1e30349e10> False\n",
            "<tensorflow.python.keras.layers.convolutional.Conv2D object at 0x7f1e302d45c0> False\n",
            "<tensorflow.python.keras.layers.normalization_v2.BatchNormalization object at 0x7f1e302d9208> False\n",
            "<tensorflow.python.keras.layers.core.Activation object at 0x7f1e302d9d30> False\n",
            "<tensorflow.python.keras.layers.convolutional.Conv2D object at 0x7f1e302e0748> False\n",
            "<tensorflow.python.keras.layers.normalization_v2.BatchNormalization object at 0x7f1e302e4390> False\n",
            "<tensorflow.python.keras.layers.core.Activation object at 0x7f1e302e4518> False\n",
            "<tensorflow.python.keras.layers.convolutional.Conv2D object at 0x7f1e302e6e48> False\n",
            "<tensorflow.python.keras.layers.normalization_v2.BatchNormalization object at 0x7f1e302f4a90> False\n",
            "<tensorflow.python.keras.layers.merge.Add object at 0x7f1e302fc278> False\n",
            "<tensorflow.python.keras.layers.core.Activation object at 0x7f1e302e6048> False\n",
            "<tensorflow.python.keras.layers.convolutional.Conv2D object at 0x7f1e30349d68> False\n",
            "<tensorflow.python.keras.layers.normalization_v2.BatchNormalization object at 0x7f1e3032f1d0> False\n",
            "<tensorflow.python.keras.layers.core.Activation object at 0x7f1e30328b38> False\n",
            "<tensorflow.python.keras.layers.convolutional.Conv2D object at 0x7f1e303182e8> False\n",
            "<tensorflow.python.keras.layers.normalization_v2.BatchNormalization object at 0x7f1e30311be0> False\n",
            "<tensorflow.python.keras.layers.core.Activation object at 0x7f1e46734e48> False\n",
            "<tensorflow.python.keras.layers.convolutional.Conv2D object at 0x7f1e302d4080> False\n",
            "<tensorflow.python.keras.layers.convolutional.Conv2D object at 0x7f1e30318710> False\n",
            "<tensorflow.python.keras.layers.normalization_v2.BatchNormalization object at 0x7f1e302d9470> False\n",
            "<tensorflow.python.keras.layers.normalization_v2.BatchNormalization object at 0x7f1e46738898> False\n",
            "<tensorflow.python.keras.layers.merge.Add object at 0x7f1e303a1438> False\n",
            "<tensorflow.python.keras.layers.core.Activation object at 0x7f1e466f9c18> False\n",
            "<tensorflow.python.keras.layers.convolutional.Conv2D object at 0x7f1e303b5e10> False\n",
            "<tensorflow.python.keras.layers.normalization_v2.BatchNormalization object at 0x7f1e30303358> False\n",
            "<tensorflow.python.keras.layers.core.Activation object at 0x7f1e30303550> False\n",
            "<tensorflow.python.keras.layers.convolutional.Conv2D object at 0x7f1e302955f8> False\n",
            "<tensorflow.python.keras.layers.normalization_v2.BatchNormalization object at 0x7f1e3029c4e0> False\n",
            "<tensorflow.python.keras.layers.core.Activation object at 0x7f1e3029c588> False\n",
            "<tensorflow.python.keras.layers.convolutional.Conv2D object at 0x7f1e302a2fd0> False\n",
            "<tensorflow.python.keras.layers.normalization_v2.BatchNormalization object at 0x7f1e302abbe0> False\n",
            "<tensorflow.python.keras.layers.merge.Add object at 0x7f1e302af438> False\n",
            "<tensorflow.python.keras.layers.core.Activation object at 0x7f1e302a2518> False\n",
            "<tensorflow.python.keras.layers.convolutional.Conv2D object at 0x7f1e302c00b8> False\n",
            "<tensorflow.python.keras.layers.normalization_v2.BatchNormalization object at 0x7f1e302c0cc0> False\n",
            "<tensorflow.python.keras.layers.core.Activation object at 0x7f1e302c5eb8> False\n",
            "<tensorflow.python.keras.layers.convolutional.Conv2D object at 0x7f1e302cd1d0> False\n",
            "<tensorflow.python.keras.layers.normalization_v2.BatchNormalization object at 0x7f1e302cde48> False\n",
            "<tensorflow.python.keras.layers.core.Activation object at 0x7f1e302546d8> False\n",
            "<tensorflow.python.keras.layers.convolutional.Conv2D object at 0x7f1e3025b940> False\n",
            "<tensorflow.python.keras.layers.normalization_v2.BatchNormalization object at 0x7f1e30264588> False\n",
            "<tensorflow.python.keras.layers.merge.Add object at 0x7f1e30264ef0> False\n",
            "<tensorflow.python.keras.layers.core.Activation object at 0x7f1e3026bf98> False\n",
            "<tensorflow.python.keras.layers.convolutional.Conv2D object at 0x7f1e3026fa20> False\n",
            "<tensorflow.python.keras.layers.normalization_v2.BatchNormalization object at 0x7f1e30276668> False\n",
            "<tensorflow.python.keras.layers.core.Activation object at 0x7f1e30276dd8> False\n",
            "<tensorflow.python.keras.layers.convolutional.Conv2D object at 0x7f1e3027eba8> False\n",
            "<tensorflow.python.keras.layers.normalization_v2.BatchNormalization object at 0x7f1e302877f0> False\n",
            "<tensorflow.python.keras.layers.core.Activation object at 0x7f1e30287860> False\n",
            "<tensorflow.python.keras.layers.convolutional.Conv2D object at 0x7f1e3027e7f0> False\n",
            "<tensorflow.python.keras.layers.normalization_v2.BatchNormalization object at 0x7f1e3026b898> False\n",
            "<tensorflow.python.keras.layers.merge.Add object at 0x7f1e30254550> False\n",
            "<tensorflow.python.keras.layers.core.Activation object at 0x7f1e302cd160> False\n",
            "<tensorflow.python.keras.layers.convolutional.Conv2D object at 0x7f1e302c5a20> False\n",
            "<tensorflow.python.keras.layers.normalization_v2.BatchNormalization object at 0x7f1e3032f5c0> False\n",
            "<tensorflow.python.keras.layers.core.Activation object at 0x7f1e302a29b0> False\n",
            "<tensorflow.python.keras.layers.convolutional.Conv2D object at 0x7f1e30254ba8> False\n",
            "<tensorflow.python.keras.layers.normalization_v2.BatchNormalization object at 0x7f1e30295a90> False\n",
            "<tensorflow.python.keras.layers.core.Activation object at 0x7f1e30400ef0> False\n",
            "<tensorflow.python.keras.layers.convolutional.Conv2D object at 0x7f1e3036dda0> False\n",
            "<tensorflow.python.keras.layers.normalization_v2.BatchNormalization object at 0x7f1e3037beb8> False\n",
            "<tensorflow.python.keras.layers.merge.Add object at 0x7f1e302fc080> False\n",
            "<tensorflow.python.keras.layers.core.Activation object at 0x7f1e7fa22be0> False\n",
            "<tensorflow.python.keras.layers.convolutional.Conv2D object at 0x7f1e3028ea20> False\n",
            "<tensorflow.python.keras.layers.normalization_v2.BatchNormalization object at 0x7f1e302204a8> False\n",
            "<tensorflow.python.keras.layers.core.Activation object at 0x7f1e30220160> False\n",
            "<tensorflow.python.keras.layers.convolutional.Conv2D object at 0x7f1e30227128> False\n",
            "<tensorflow.python.keras.layers.normalization_v2.BatchNormalization object at 0x7f1e3022c630> False\n",
            "<tensorflow.python.keras.layers.core.Activation object at 0x7f1e3022c6a0> False\n",
            "<tensorflow.python.keras.layers.convolutional.Conv2D object at 0x7f1e3023a128> False\n",
            "<tensorflow.python.keras.layers.normalization_v2.BatchNormalization object at 0x7f1e3023ad30> False\n",
            "<tensorflow.python.keras.layers.merge.Add object at 0x7f1e3023f438> False\n",
            "<tensorflow.python.keras.layers.core.Activation object at 0x7f1e30247a58> False\n",
            "<tensorflow.python.keras.layers.convolutional.Conv2D object at 0x7f1e301d74a8> False\n",
            "<tensorflow.python.keras.layers.normalization_v2.BatchNormalization object at 0x7f1e301dd748> False\n",
            "<tensorflow.python.keras.layers.core.Activation object at 0x7f1e301e3ac8> False\n",
            "<tensorflow.python.keras.layers.convolutional.Conv2D object at 0x7f1e301dd0f0> False\n",
            "<tensorflow.python.keras.layers.normalization_v2.BatchNormalization object at 0x7f1e301f22e8> False\n",
            "<tensorflow.python.keras.layers.core.Activation object at 0x7f1e301f9668> False\n",
            "<tensorflow.python.keras.layers.convolutional.Conv2D object at 0x7f1e301d0208> False\n",
            "<tensorflow.python.keras.layers.convolutional.Conv2D object at 0x7f1e301ee7f0> False\n",
            "<tensorflow.python.keras.layers.normalization_v2.BatchNormalization object at 0x7f1e301d0e10> False\n",
            "<tensorflow.python.keras.layers.normalization_v2.BatchNormalization object at 0x7f1e302029e8> False\n",
            "<tensorflow.python.keras.layers.merge.Add object at 0x7f1e302096a0> False\n",
            "<tensorflow.python.keras.layers.core.Activation object at 0x7f1e301ee048> False\n",
            "<tensorflow.python.keras.layers.convolutional.Conv2D object at 0x7f1e30191e80> False\n",
            "<tensorflow.python.keras.layers.normalization_v2.BatchNormalization object at 0x7f1e30199ac8> False\n",
            "<tensorflow.python.keras.layers.core.Activation object at 0x7f1e3019fe48> False\n",
            "<tensorflow.python.keras.layers.convolutional.Conv2D object at 0x7f1e30191208> False\n",
            "<tensorflow.python.keras.layers.normalization_v2.BatchNormalization object at 0x7f1e30209978> False\n",
            "<tensorflow.python.keras.layers.core.Activation object at 0x7f1e301f97b8> False\n",
            "<tensorflow.python.keras.layers.convolutional.Conv2D object at 0x7f1e301ee208> False\n",
            "<tensorflow.python.keras.layers.normalization_v2.BatchNormalization object at 0x7f1e301d0b00> False\n",
            "<tensorflow.python.keras.layers.merge.Add object at 0x7f1e30247c50> False\n",
            "<tensorflow.python.keras.layers.core.Activation object at 0x7f1e3019fe10> False\n",
            "<tensorflow.python.keras.layers.convolutional.Conv2D object at 0x7f1e3022c8d0> False\n",
            "<tensorflow.python.keras.layers.normalization_v2.BatchNormalization object at 0x7f1e3028ea58> False\n",
            "<tensorflow.python.keras.layers.core.Activation object at 0x7f1e30334390> False\n",
            "<tensorflow.python.keras.layers.convolutional.Conv2D object at 0x7f1e3023af60> False\n",
            "<tensorflow.python.keras.layers.normalization_v2.BatchNormalization object at 0x7f1e30350cf8> False\n",
            "<tensorflow.python.keras.layers.core.Activation object at 0x7f1e302abd68> False\n",
            "<tensorflow.python.keras.layers.convolutional.Conv2D object at 0x7f1e302b5978> False\n",
            "<tensorflow.python.keras.layers.normalization_v2.BatchNormalization object at 0x7f1e3025ba58> True\n",
            "<tensorflow.python.keras.layers.merge.Add object at 0x7f1e301a53c8> True\n",
            "<tensorflow.python.keras.layers.core.Activation object at 0x7f1e3023fbe0> True\n"
          ],
          "name": "stdout"
        }
      ]
    },
    {
      "cell_type": "code",
      "metadata": {
        "colab": {
          "base_uri": "https://localhost:8080/"
        },
        "id": "L4bEl5Gsu0Nx",
        "outputId": "b6c71149-d4a5-48d4-c1cc-ea2b10b4161d"
      },
      "source": [
        "# Check model flow\n",
        "model = Model(inputs=model.inputs, outputs=output)\n",
        "model.summary()"
      ],
      "execution_count": 8,
      "outputs": [
        {
          "output_type": "stream",
          "text": [
            "Model: \"model\"\n",
            "__________________________________________________________________________________________________\n",
            "Layer (type)                    Output Shape         Param #     Connected to                     \n",
            "==================================================================================================\n",
            "input_1 (InputLayer)            [(None, 150, 150, 3) 0                                            \n",
            "__________________________________________________________________________________________________\n",
            "conv1_pad (ZeroPadding2D)       (None, 156, 156, 3)  0           input_1[0][0]                    \n",
            "__________________________________________________________________________________________________\n",
            "conv1_conv (Conv2D)             (None, 75, 75, 64)   9472        conv1_pad[0][0]                  \n",
            "__________________________________________________________________________________________________\n",
            "conv1_bn (BatchNormalization)   (None, 75, 75, 64)   256         conv1_conv[0][0]                 \n",
            "__________________________________________________________________________________________________\n",
            "conv1_relu (Activation)         (None, 75, 75, 64)   0           conv1_bn[0][0]                   \n",
            "__________________________________________________________________________________________________\n",
            "pool1_pad (ZeroPadding2D)       (None, 77, 77, 64)   0           conv1_relu[0][0]                 \n",
            "__________________________________________________________________________________________________\n",
            "pool1_pool (MaxPooling2D)       (None, 38, 38, 64)   0           pool1_pad[0][0]                  \n",
            "__________________________________________________________________________________________________\n",
            "conv2_block1_1_conv (Conv2D)    (None, 38, 38, 64)   4160        pool1_pool[0][0]                 \n",
            "__________________________________________________________________________________________________\n",
            "conv2_block1_1_bn (BatchNormali (None, 38, 38, 64)   256         conv2_block1_1_conv[0][0]        \n",
            "__________________________________________________________________________________________________\n",
            "conv2_block1_1_relu (Activation (None, 38, 38, 64)   0           conv2_block1_1_bn[0][0]          \n",
            "__________________________________________________________________________________________________\n",
            "conv2_block1_2_conv (Conv2D)    (None, 38, 38, 64)   36928       conv2_block1_1_relu[0][0]        \n",
            "__________________________________________________________________________________________________\n",
            "conv2_block1_2_bn (BatchNormali (None, 38, 38, 64)   256         conv2_block1_2_conv[0][0]        \n",
            "__________________________________________________________________________________________________\n",
            "conv2_block1_2_relu (Activation (None, 38, 38, 64)   0           conv2_block1_2_bn[0][0]          \n",
            "__________________________________________________________________________________________________\n",
            "conv2_block1_0_conv (Conv2D)    (None, 38, 38, 256)  16640       pool1_pool[0][0]                 \n",
            "__________________________________________________________________________________________________\n",
            "conv2_block1_3_conv (Conv2D)    (None, 38, 38, 256)  16640       conv2_block1_2_relu[0][0]        \n",
            "__________________________________________________________________________________________________\n",
            "conv2_block1_0_bn (BatchNormali (None, 38, 38, 256)  1024        conv2_block1_0_conv[0][0]        \n",
            "__________________________________________________________________________________________________\n",
            "conv2_block1_3_bn (BatchNormali (None, 38, 38, 256)  1024        conv2_block1_3_conv[0][0]        \n",
            "__________________________________________________________________________________________________\n",
            "conv2_block1_add (Add)          (None, 38, 38, 256)  0           conv2_block1_0_bn[0][0]          \n",
            "                                                                 conv2_block1_3_bn[0][0]          \n",
            "__________________________________________________________________________________________________\n",
            "conv2_block1_out (Activation)   (None, 38, 38, 256)  0           conv2_block1_add[0][0]           \n",
            "__________________________________________________________________________________________________\n",
            "conv2_block2_1_conv (Conv2D)    (None, 38, 38, 64)   16448       conv2_block1_out[0][0]           \n",
            "__________________________________________________________________________________________________\n",
            "conv2_block2_1_bn (BatchNormali (None, 38, 38, 64)   256         conv2_block2_1_conv[0][0]        \n",
            "__________________________________________________________________________________________________\n",
            "conv2_block2_1_relu (Activation (None, 38, 38, 64)   0           conv2_block2_1_bn[0][0]          \n",
            "__________________________________________________________________________________________________\n",
            "conv2_block2_2_conv (Conv2D)    (None, 38, 38, 64)   36928       conv2_block2_1_relu[0][0]        \n",
            "__________________________________________________________________________________________________\n",
            "conv2_block2_2_bn (BatchNormali (None, 38, 38, 64)   256         conv2_block2_2_conv[0][0]        \n",
            "__________________________________________________________________________________________________\n",
            "conv2_block2_2_relu (Activation (None, 38, 38, 64)   0           conv2_block2_2_bn[0][0]          \n",
            "__________________________________________________________________________________________________\n",
            "conv2_block2_3_conv (Conv2D)    (None, 38, 38, 256)  16640       conv2_block2_2_relu[0][0]        \n",
            "__________________________________________________________________________________________________\n",
            "conv2_block2_3_bn (BatchNormali (None, 38, 38, 256)  1024        conv2_block2_3_conv[0][0]        \n",
            "__________________________________________________________________________________________________\n",
            "conv2_block2_add (Add)          (None, 38, 38, 256)  0           conv2_block1_out[0][0]           \n",
            "                                                                 conv2_block2_3_bn[0][0]          \n",
            "__________________________________________________________________________________________________\n",
            "conv2_block2_out (Activation)   (None, 38, 38, 256)  0           conv2_block2_add[0][0]           \n",
            "__________________________________________________________________________________________________\n",
            "conv2_block3_1_conv (Conv2D)    (None, 38, 38, 64)   16448       conv2_block2_out[0][0]           \n",
            "__________________________________________________________________________________________________\n",
            "conv2_block3_1_bn (BatchNormali (None, 38, 38, 64)   256         conv2_block3_1_conv[0][0]        \n",
            "__________________________________________________________________________________________________\n",
            "conv2_block3_1_relu (Activation (None, 38, 38, 64)   0           conv2_block3_1_bn[0][0]          \n",
            "__________________________________________________________________________________________________\n",
            "conv2_block3_2_conv (Conv2D)    (None, 38, 38, 64)   36928       conv2_block3_1_relu[0][0]        \n",
            "__________________________________________________________________________________________________\n",
            "conv2_block3_2_bn (BatchNormali (None, 38, 38, 64)   256         conv2_block3_2_conv[0][0]        \n",
            "__________________________________________________________________________________________________\n",
            "conv2_block3_2_relu (Activation (None, 38, 38, 64)   0           conv2_block3_2_bn[0][0]          \n",
            "__________________________________________________________________________________________________\n",
            "conv2_block3_3_conv (Conv2D)    (None, 38, 38, 256)  16640       conv2_block3_2_relu[0][0]        \n",
            "__________________________________________________________________________________________________\n",
            "conv2_block3_3_bn (BatchNormali (None, 38, 38, 256)  1024        conv2_block3_3_conv[0][0]        \n",
            "__________________________________________________________________________________________________\n",
            "conv2_block3_add (Add)          (None, 38, 38, 256)  0           conv2_block2_out[0][0]           \n",
            "                                                                 conv2_block3_3_bn[0][0]          \n",
            "__________________________________________________________________________________________________\n",
            "conv2_block3_out (Activation)   (None, 38, 38, 256)  0           conv2_block3_add[0][0]           \n",
            "__________________________________________________________________________________________________\n",
            "conv3_block1_1_conv (Conv2D)    (None, 19, 19, 128)  32896       conv2_block3_out[0][0]           \n",
            "__________________________________________________________________________________________________\n",
            "conv3_block1_1_bn (BatchNormali (None, 19, 19, 128)  512         conv3_block1_1_conv[0][0]        \n",
            "__________________________________________________________________________________________________\n",
            "conv3_block1_1_relu (Activation (None, 19, 19, 128)  0           conv3_block1_1_bn[0][0]          \n",
            "__________________________________________________________________________________________________\n",
            "conv3_block1_2_conv (Conv2D)    (None, 19, 19, 128)  147584      conv3_block1_1_relu[0][0]        \n",
            "__________________________________________________________________________________________________\n",
            "conv3_block1_2_bn (BatchNormali (None, 19, 19, 128)  512         conv3_block1_2_conv[0][0]        \n",
            "__________________________________________________________________________________________________\n",
            "conv3_block1_2_relu (Activation (None, 19, 19, 128)  0           conv3_block1_2_bn[0][0]          \n",
            "__________________________________________________________________________________________________\n",
            "conv3_block1_0_conv (Conv2D)    (None, 19, 19, 512)  131584      conv2_block3_out[0][0]           \n",
            "__________________________________________________________________________________________________\n",
            "conv3_block1_3_conv (Conv2D)    (None, 19, 19, 512)  66048       conv3_block1_2_relu[0][0]        \n",
            "__________________________________________________________________________________________________\n",
            "conv3_block1_0_bn (BatchNormali (None, 19, 19, 512)  2048        conv3_block1_0_conv[0][0]        \n",
            "__________________________________________________________________________________________________\n",
            "conv3_block1_3_bn (BatchNormali (None, 19, 19, 512)  2048        conv3_block1_3_conv[0][0]        \n",
            "__________________________________________________________________________________________________\n",
            "conv3_block1_add (Add)          (None, 19, 19, 512)  0           conv3_block1_0_bn[0][0]          \n",
            "                                                                 conv3_block1_3_bn[0][0]          \n",
            "__________________________________________________________________________________________________\n",
            "conv3_block1_out (Activation)   (None, 19, 19, 512)  0           conv3_block1_add[0][0]           \n",
            "__________________________________________________________________________________________________\n",
            "conv3_block2_1_conv (Conv2D)    (None, 19, 19, 128)  65664       conv3_block1_out[0][0]           \n",
            "__________________________________________________________________________________________________\n",
            "conv3_block2_1_bn (BatchNormali (None, 19, 19, 128)  512         conv3_block2_1_conv[0][0]        \n",
            "__________________________________________________________________________________________________\n",
            "conv3_block2_1_relu (Activation (None, 19, 19, 128)  0           conv3_block2_1_bn[0][0]          \n",
            "__________________________________________________________________________________________________\n",
            "conv3_block2_2_conv (Conv2D)    (None, 19, 19, 128)  147584      conv3_block2_1_relu[0][0]        \n",
            "__________________________________________________________________________________________________\n",
            "conv3_block2_2_bn (BatchNormali (None, 19, 19, 128)  512         conv3_block2_2_conv[0][0]        \n",
            "__________________________________________________________________________________________________\n",
            "conv3_block2_2_relu (Activation (None, 19, 19, 128)  0           conv3_block2_2_bn[0][0]          \n",
            "__________________________________________________________________________________________________\n",
            "conv3_block2_3_conv (Conv2D)    (None, 19, 19, 512)  66048       conv3_block2_2_relu[0][0]        \n",
            "__________________________________________________________________________________________________\n",
            "conv3_block2_3_bn (BatchNormali (None, 19, 19, 512)  2048        conv3_block2_3_conv[0][0]        \n",
            "__________________________________________________________________________________________________\n",
            "conv3_block2_add (Add)          (None, 19, 19, 512)  0           conv3_block1_out[0][0]           \n",
            "                                                                 conv3_block2_3_bn[0][0]          \n",
            "__________________________________________________________________________________________________\n",
            "conv3_block2_out (Activation)   (None, 19, 19, 512)  0           conv3_block2_add[0][0]           \n",
            "__________________________________________________________________________________________________\n",
            "conv3_block3_1_conv (Conv2D)    (None, 19, 19, 128)  65664       conv3_block2_out[0][0]           \n",
            "__________________________________________________________________________________________________\n",
            "conv3_block3_1_bn (BatchNormali (None, 19, 19, 128)  512         conv3_block3_1_conv[0][0]        \n",
            "__________________________________________________________________________________________________\n",
            "conv3_block3_1_relu (Activation (None, 19, 19, 128)  0           conv3_block3_1_bn[0][0]          \n",
            "__________________________________________________________________________________________________\n",
            "conv3_block3_2_conv (Conv2D)    (None, 19, 19, 128)  147584      conv3_block3_1_relu[0][0]        \n",
            "__________________________________________________________________________________________________\n",
            "conv3_block3_2_bn (BatchNormali (None, 19, 19, 128)  512         conv3_block3_2_conv[0][0]        \n",
            "__________________________________________________________________________________________________\n",
            "conv3_block3_2_relu (Activation (None, 19, 19, 128)  0           conv3_block3_2_bn[0][0]          \n",
            "__________________________________________________________________________________________________\n",
            "conv3_block3_3_conv (Conv2D)    (None, 19, 19, 512)  66048       conv3_block3_2_relu[0][0]        \n",
            "__________________________________________________________________________________________________\n",
            "conv3_block3_3_bn (BatchNormali (None, 19, 19, 512)  2048        conv3_block3_3_conv[0][0]        \n",
            "__________________________________________________________________________________________________\n",
            "conv3_block3_add (Add)          (None, 19, 19, 512)  0           conv3_block2_out[0][0]           \n",
            "                                                                 conv3_block3_3_bn[0][0]          \n",
            "__________________________________________________________________________________________________\n",
            "conv3_block3_out (Activation)   (None, 19, 19, 512)  0           conv3_block3_add[0][0]           \n",
            "__________________________________________________________________________________________________\n",
            "conv3_block4_1_conv (Conv2D)    (None, 19, 19, 128)  65664       conv3_block3_out[0][0]           \n",
            "__________________________________________________________________________________________________\n",
            "conv3_block4_1_bn (BatchNormali (None, 19, 19, 128)  512         conv3_block4_1_conv[0][0]        \n",
            "__________________________________________________________________________________________________\n",
            "conv3_block4_1_relu (Activation (None, 19, 19, 128)  0           conv3_block4_1_bn[0][0]          \n",
            "__________________________________________________________________________________________________\n",
            "conv3_block4_2_conv (Conv2D)    (None, 19, 19, 128)  147584      conv3_block4_1_relu[0][0]        \n",
            "__________________________________________________________________________________________________\n",
            "conv3_block4_2_bn (BatchNormali (None, 19, 19, 128)  512         conv3_block4_2_conv[0][0]        \n",
            "__________________________________________________________________________________________________\n",
            "conv3_block4_2_relu (Activation (None, 19, 19, 128)  0           conv3_block4_2_bn[0][0]          \n",
            "__________________________________________________________________________________________________\n",
            "conv3_block4_3_conv (Conv2D)    (None, 19, 19, 512)  66048       conv3_block4_2_relu[0][0]        \n",
            "__________________________________________________________________________________________________\n",
            "conv3_block4_3_bn (BatchNormali (None, 19, 19, 512)  2048        conv3_block4_3_conv[0][0]        \n",
            "__________________________________________________________________________________________________\n",
            "conv3_block4_add (Add)          (None, 19, 19, 512)  0           conv3_block3_out[0][0]           \n",
            "                                                                 conv3_block4_3_bn[0][0]          \n",
            "__________________________________________________________________________________________________\n",
            "conv3_block4_out (Activation)   (None, 19, 19, 512)  0           conv3_block4_add[0][0]           \n",
            "__________________________________________________________________________________________________\n",
            "conv4_block1_1_conv (Conv2D)    (None, 10, 10, 256)  131328      conv3_block4_out[0][0]           \n",
            "__________________________________________________________________________________________________\n",
            "conv4_block1_1_bn (BatchNormali (None, 10, 10, 256)  1024        conv4_block1_1_conv[0][0]        \n",
            "__________________________________________________________________________________________________\n",
            "conv4_block1_1_relu (Activation (None, 10, 10, 256)  0           conv4_block1_1_bn[0][0]          \n",
            "__________________________________________________________________________________________________\n",
            "conv4_block1_2_conv (Conv2D)    (None, 10, 10, 256)  590080      conv4_block1_1_relu[0][0]        \n",
            "__________________________________________________________________________________________________\n",
            "conv4_block1_2_bn (BatchNormali (None, 10, 10, 256)  1024        conv4_block1_2_conv[0][0]        \n",
            "__________________________________________________________________________________________________\n",
            "conv4_block1_2_relu (Activation (None, 10, 10, 256)  0           conv4_block1_2_bn[0][0]          \n",
            "__________________________________________________________________________________________________\n",
            "conv4_block1_0_conv (Conv2D)    (None, 10, 10, 1024) 525312      conv3_block4_out[0][0]           \n",
            "__________________________________________________________________________________________________\n",
            "conv4_block1_3_conv (Conv2D)    (None, 10, 10, 1024) 263168      conv4_block1_2_relu[0][0]        \n",
            "__________________________________________________________________________________________________\n",
            "conv4_block1_0_bn (BatchNormali (None, 10, 10, 1024) 4096        conv4_block1_0_conv[0][0]        \n",
            "__________________________________________________________________________________________________\n",
            "conv4_block1_3_bn (BatchNormali (None, 10, 10, 1024) 4096        conv4_block1_3_conv[0][0]        \n",
            "__________________________________________________________________________________________________\n",
            "conv4_block1_add (Add)          (None, 10, 10, 1024) 0           conv4_block1_0_bn[0][0]          \n",
            "                                                                 conv4_block1_3_bn[0][0]          \n",
            "__________________________________________________________________________________________________\n",
            "conv4_block1_out (Activation)   (None, 10, 10, 1024) 0           conv4_block1_add[0][0]           \n",
            "__________________________________________________________________________________________________\n",
            "conv4_block2_1_conv (Conv2D)    (None, 10, 10, 256)  262400      conv4_block1_out[0][0]           \n",
            "__________________________________________________________________________________________________\n",
            "conv4_block2_1_bn (BatchNormali (None, 10, 10, 256)  1024        conv4_block2_1_conv[0][0]        \n",
            "__________________________________________________________________________________________________\n",
            "conv4_block2_1_relu (Activation (None, 10, 10, 256)  0           conv4_block2_1_bn[0][0]          \n",
            "__________________________________________________________________________________________________\n",
            "conv4_block2_2_conv (Conv2D)    (None, 10, 10, 256)  590080      conv4_block2_1_relu[0][0]        \n",
            "__________________________________________________________________________________________________\n",
            "conv4_block2_2_bn (BatchNormali (None, 10, 10, 256)  1024        conv4_block2_2_conv[0][0]        \n",
            "__________________________________________________________________________________________________\n",
            "conv4_block2_2_relu (Activation (None, 10, 10, 256)  0           conv4_block2_2_bn[0][0]          \n",
            "__________________________________________________________________________________________________\n",
            "conv4_block2_3_conv (Conv2D)    (None, 10, 10, 1024) 263168      conv4_block2_2_relu[0][0]        \n",
            "__________________________________________________________________________________________________\n",
            "conv4_block2_3_bn (BatchNormali (None, 10, 10, 1024) 4096        conv4_block2_3_conv[0][0]        \n",
            "__________________________________________________________________________________________________\n",
            "conv4_block2_add (Add)          (None, 10, 10, 1024) 0           conv4_block1_out[0][0]           \n",
            "                                                                 conv4_block2_3_bn[0][0]          \n",
            "__________________________________________________________________________________________________\n",
            "conv4_block2_out (Activation)   (None, 10, 10, 1024) 0           conv4_block2_add[0][0]           \n",
            "__________________________________________________________________________________________________\n",
            "conv4_block3_1_conv (Conv2D)    (None, 10, 10, 256)  262400      conv4_block2_out[0][0]           \n",
            "__________________________________________________________________________________________________\n",
            "conv4_block3_1_bn (BatchNormali (None, 10, 10, 256)  1024        conv4_block3_1_conv[0][0]        \n",
            "__________________________________________________________________________________________________\n",
            "conv4_block3_1_relu (Activation (None, 10, 10, 256)  0           conv4_block3_1_bn[0][0]          \n",
            "__________________________________________________________________________________________________\n",
            "conv4_block3_2_conv (Conv2D)    (None, 10, 10, 256)  590080      conv4_block3_1_relu[0][0]        \n",
            "__________________________________________________________________________________________________\n",
            "conv4_block3_2_bn (BatchNormali (None, 10, 10, 256)  1024        conv4_block3_2_conv[0][0]        \n",
            "__________________________________________________________________________________________________\n",
            "conv4_block3_2_relu (Activation (None, 10, 10, 256)  0           conv4_block3_2_bn[0][0]          \n",
            "__________________________________________________________________________________________________\n",
            "conv4_block3_3_conv (Conv2D)    (None, 10, 10, 1024) 263168      conv4_block3_2_relu[0][0]        \n",
            "__________________________________________________________________________________________________\n",
            "conv4_block3_3_bn (BatchNormali (None, 10, 10, 1024) 4096        conv4_block3_3_conv[0][0]        \n",
            "__________________________________________________________________________________________________\n",
            "conv4_block3_add (Add)          (None, 10, 10, 1024) 0           conv4_block2_out[0][0]           \n",
            "                                                                 conv4_block3_3_bn[0][0]          \n",
            "__________________________________________________________________________________________________\n",
            "conv4_block3_out (Activation)   (None, 10, 10, 1024) 0           conv4_block3_add[0][0]           \n",
            "__________________________________________________________________________________________________\n",
            "conv4_block4_1_conv (Conv2D)    (None, 10, 10, 256)  262400      conv4_block3_out[0][0]           \n",
            "__________________________________________________________________________________________________\n",
            "conv4_block4_1_bn (BatchNormali (None, 10, 10, 256)  1024        conv4_block4_1_conv[0][0]        \n",
            "__________________________________________________________________________________________________\n",
            "conv4_block4_1_relu (Activation (None, 10, 10, 256)  0           conv4_block4_1_bn[0][0]          \n",
            "__________________________________________________________________________________________________\n",
            "conv4_block4_2_conv (Conv2D)    (None, 10, 10, 256)  590080      conv4_block4_1_relu[0][0]        \n",
            "__________________________________________________________________________________________________\n",
            "conv4_block4_2_bn (BatchNormali (None, 10, 10, 256)  1024        conv4_block4_2_conv[0][0]        \n",
            "__________________________________________________________________________________________________\n",
            "conv4_block4_2_relu (Activation (None, 10, 10, 256)  0           conv4_block4_2_bn[0][0]          \n",
            "__________________________________________________________________________________________________\n",
            "conv4_block4_3_conv (Conv2D)    (None, 10, 10, 1024) 263168      conv4_block4_2_relu[0][0]        \n",
            "__________________________________________________________________________________________________\n",
            "conv4_block4_3_bn (BatchNormali (None, 10, 10, 1024) 4096        conv4_block4_3_conv[0][0]        \n",
            "__________________________________________________________________________________________________\n",
            "conv4_block4_add (Add)          (None, 10, 10, 1024) 0           conv4_block3_out[0][0]           \n",
            "                                                                 conv4_block4_3_bn[0][0]          \n",
            "__________________________________________________________________________________________________\n",
            "conv4_block4_out (Activation)   (None, 10, 10, 1024) 0           conv4_block4_add[0][0]           \n",
            "__________________________________________________________________________________________________\n",
            "conv4_block5_1_conv (Conv2D)    (None, 10, 10, 256)  262400      conv4_block4_out[0][0]           \n",
            "__________________________________________________________________________________________________\n",
            "conv4_block5_1_bn (BatchNormali (None, 10, 10, 256)  1024        conv4_block5_1_conv[0][0]        \n",
            "__________________________________________________________________________________________________\n",
            "conv4_block5_1_relu (Activation (None, 10, 10, 256)  0           conv4_block5_1_bn[0][0]          \n",
            "__________________________________________________________________________________________________\n",
            "conv4_block5_2_conv (Conv2D)    (None, 10, 10, 256)  590080      conv4_block5_1_relu[0][0]        \n",
            "__________________________________________________________________________________________________\n",
            "conv4_block5_2_bn (BatchNormali (None, 10, 10, 256)  1024        conv4_block5_2_conv[0][0]        \n",
            "__________________________________________________________________________________________________\n",
            "conv4_block5_2_relu (Activation (None, 10, 10, 256)  0           conv4_block5_2_bn[0][0]          \n",
            "__________________________________________________________________________________________________\n",
            "conv4_block5_3_conv (Conv2D)    (None, 10, 10, 1024) 263168      conv4_block5_2_relu[0][0]        \n",
            "__________________________________________________________________________________________________\n",
            "conv4_block5_3_bn (BatchNormali (None, 10, 10, 1024) 4096        conv4_block5_3_conv[0][0]        \n",
            "__________________________________________________________________________________________________\n",
            "conv4_block5_add (Add)          (None, 10, 10, 1024) 0           conv4_block4_out[0][0]           \n",
            "                                                                 conv4_block5_3_bn[0][0]          \n",
            "__________________________________________________________________________________________________\n",
            "conv4_block5_out (Activation)   (None, 10, 10, 1024) 0           conv4_block5_add[0][0]           \n",
            "__________________________________________________________________________________________________\n",
            "conv4_block6_1_conv (Conv2D)    (None, 10, 10, 256)  262400      conv4_block5_out[0][0]           \n",
            "__________________________________________________________________________________________________\n",
            "conv4_block6_1_bn (BatchNormali (None, 10, 10, 256)  1024        conv4_block6_1_conv[0][0]        \n",
            "__________________________________________________________________________________________________\n",
            "conv4_block6_1_relu (Activation (None, 10, 10, 256)  0           conv4_block6_1_bn[0][0]          \n",
            "__________________________________________________________________________________________________\n",
            "conv4_block6_2_conv (Conv2D)    (None, 10, 10, 256)  590080      conv4_block6_1_relu[0][0]        \n",
            "__________________________________________________________________________________________________\n",
            "conv4_block6_2_bn (BatchNormali (None, 10, 10, 256)  1024        conv4_block6_2_conv[0][0]        \n",
            "__________________________________________________________________________________________________\n",
            "conv4_block6_2_relu (Activation (None, 10, 10, 256)  0           conv4_block6_2_bn[0][0]          \n",
            "__________________________________________________________________________________________________\n",
            "conv4_block6_3_conv (Conv2D)    (None, 10, 10, 1024) 263168      conv4_block6_2_relu[0][0]        \n",
            "__________________________________________________________________________________________________\n",
            "conv4_block6_3_bn (BatchNormali (None, 10, 10, 1024) 4096        conv4_block6_3_conv[0][0]        \n",
            "__________________________________________________________________________________________________\n",
            "conv4_block6_add (Add)          (None, 10, 10, 1024) 0           conv4_block5_out[0][0]           \n",
            "                                                                 conv4_block6_3_bn[0][0]          \n",
            "__________________________________________________________________________________________________\n",
            "conv4_block6_out (Activation)   (None, 10, 10, 1024) 0           conv4_block6_add[0][0]           \n",
            "__________________________________________________________________________________________________\n",
            "conv5_block1_1_conv (Conv2D)    (None, 5, 5, 512)    524800      conv4_block6_out[0][0]           \n",
            "__________________________________________________________________________________________________\n",
            "conv5_block1_1_bn (BatchNormali (None, 5, 5, 512)    2048        conv5_block1_1_conv[0][0]        \n",
            "__________________________________________________________________________________________________\n",
            "conv5_block1_1_relu (Activation (None, 5, 5, 512)    0           conv5_block1_1_bn[0][0]          \n",
            "__________________________________________________________________________________________________\n",
            "conv5_block1_2_conv (Conv2D)    (None, 5, 5, 512)    2359808     conv5_block1_1_relu[0][0]        \n",
            "__________________________________________________________________________________________________\n",
            "conv5_block1_2_bn (BatchNormali (None, 5, 5, 512)    2048        conv5_block1_2_conv[0][0]        \n",
            "__________________________________________________________________________________________________\n",
            "conv5_block1_2_relu (Activation (None, 5, 5, 512)    0           conv5_block1_2_bn[0][0]          \n",
            "__________________________________________________________________________________________________\n",
            "conv5_block1_0_conv (Conv2D)    (None, 5, 5, 2048)   2099200     conv4_block6_out[0][0]           \n",
            "__________________________________________________________________________________________________\n",
            "conv5_block1_3_conv (Conv2D)    (None, 5, 5, 2048)   1050624     conv5_block1_2_relu[0][0]        \n",
            "__________________________________________________________________________________________________\n",
            "conv5_block1_0_bn (BatchNormali (None, 5, 5, 2048)   8192        conv5_block1_0_conv[0][0]        \n",
            "__________________________________________________________________________________________________\n",
            "conv5_block1_3_bn (BatchNormali (None, 5, 5, 2048)   8192        conv5_block1_3_conv[0][0]        \n",
            "__________________________________________________________________________________________________\n",
            "conv5_block1_add (Add)          (None, 5, 5, 2048)   0           conv5_block1_0_bn[0][0]          \n",
            "                                                                 conv5_block1_3_bn[0][0]          \n",
            "__________________________________________________________________________________________________\n",
            "conv5_block1_out (Activation)   (None, 5, 5, 2048)   0           conv5_block1_add[0][0]           \n",
            "__________________________________________________________________________________________________\n",
            "conv5_block2_1_conv (Conv2D)    (None, 5, 5, 512)    1049088     conv5_block1_out[0][0]           \n",
            "__________________________________________________________________________________________________\n",
            "conv5_block2_1_bn (BatchNormali (None, 5, 5, 512)    2048        conv5_block2_1_conv[0][0]        \n",
            "__________________________________________________________________________________________________\n",
            "conv5_block2_1_relu (Activation (None, 5, 5, 512)    0           conv5_block2_1_bn[0][0]          \n",
            "__________________________________________________________________________________________________\n",
            "conv5_block2_2_conv (Conv2D)    (None, 5, 5, 512)    2359808     conv5_block2_1_relu[0][0]        \n",
            "__________________________________________________________________________________________________\n",
            "conv5_block2_2_bn (BatchNormali (None, 5, 5, 512)    2048        conv5_block2_2_conv[0][0]        \n",
            "__________________________________________________________________________________________________\n",
            "conv5_block2_2_relu (Activation (None, 5, 5, 512)    0           conv5_block2_2_bn[0][0]          \n",
            "__________________________________________________________________________________________________\n",
            "conv5_block2_3_conv (Conv2D)    (None, 5, 5, 2048)   1050624     conv5_block2_2_relu[0][0]        \n",
            "__________________________________________________________________________________________________\n",
            "conv5_block2_3_bn (BatchNormali (None, 5, 5, 2048)   8192        conv5_block2_3_conv[0][0]        \n",
            "__________________________________________________________________________________________________\n",
            "conv5_block2_add (Add)          (None, 5, 5, 2048)   0           conv5_block1_out[0][0]           \n",
            "                                                                 conv5_block2_3_bn[0][0]          \n",
            "__________________________________________________________________________________________________\n",
            "conv5_block2_out (Activation)   (None, 5, 5, 2048)   0           conv5_block2_add[0][0]           \n",
            "__________________________________________________________________________________________________\n",
            "conv5_block3_1_conv (Conv2D)    (None, 5, 5, 512)    1049088     conv5_block2_out[0][0]           \n",
            "__________________________________________________________________________________________________\n",
            "conv5_block3_1_bn (BatchNormali (None, 5, 5, 512)    2048        conv5_block3_1_conv[0][0]        \n",
            "__________________________________________________________________________________________________\n",
            "conv5_block3_1_relu (Activation (None, 5, 5, 512)    0           conv5_block3_1_bn[0][0]          \n",
            "__________________________________________________________________________________________________\n",
            "conv5_block3_2_conv (Conv2D)    (None, 5, 5, 512)    2359808     conv5_block3_1_relu[0][0]        \n",
            "__________________________________________________________________________________________________\n",
            "conv5_block3_2_bn (BatchNormali (None, 5, 5, 512)    2048        conv5_block3_2_conv[0][0]        \n",
            "__________________________________________________________________________________________________\n",
            "conv5_block3_2_relu (Activation (None, 5, 5, 512)    0           conv5_block3_2_bn[0][0]          \n",
            "__________________________________________________________________________________________________\n",
            "conv5_block3_3_conv (Conv2D)    (None, 5, 5, 2048)   1050624     conv5_block3_2_relu[0][0]        \n",
            "__________________________________________________________________________________________________\n",
            "conv5_block3_3_bn (BatchNormali (None, 5, 5, 2048)   8192        conv5_block3_3_conv[0][0]        \n",
            "__________________________________________________________________________________________________\n",
            "conv5_block3_add (Add)          (None, 5, 5, 2048)   0           conv5_block2_out[0][0]           \n",
            "                                                                 conv5_block3_3_bn[0][0]          \n",
            "__________________________________________________________________________________________________\n",
            "conv5_block3_out (Activation)   (None, 5, 5, 2048)   0           conv5_block3_add[0][0]           \n",
            "__________________________________________________________________________________________________\n",
            "flatten (Flatten)               (None, 51200)        0           conv5_block3_out[0][0]           \n",
            "__________________________________________________________________________________________________\n",
            "dense (Dense)                   (None, 1024)         52429824    flatten[0][0]                    \n",
            "__________________________________________________________________________________________________\n",
            "dense_1 (Dense)                 (None, 6)            6150        dense[0][0]                      \n",
            "==================================================================================================\n",
            "Total params: 76,023,686\n",
            "Trainable params: 52,440,070\n",
            "Non-trainable params: 23,583,616\n",
            "__________________________________________________________________________________________________\n"
          ],
          "name": "stdout"
        }
      ]
    },
    {
      "cell_type": "code",
      "metadata": {
        "id": "QYEos7Bfu95W"
      },
      "source": [
        "import os\n",
        "import cv2\n",
        "import numpy as np\n",
        "from imutils import paths\n",
        "import matplotlib.pyplot as plt"
      ],
      "execution_count": 9,
      "outputs": []
    },
    {
      "cell_type": "code",
      "metadata": {
        "id": "HK81JxuBveRZ"
      },
      "source": [
        "# Set dataset paths\n",
        "train_dir = path + \"intel-image-classification/seg_train/seg_train/\"\n",
        "test_dir = path + \"intel-image-classification/seg_test/seg_test/\"\n",
        "pred_dir = path + \"test-data/seg_pred/seg_pred/\"\n",
        "vis_dir = path + \"predict/\""
      ],
      "execution_count": 27,
      "outputs": []
    },
    {
      "cell_type": "code",
      "metadata": {
        "colab": {
          "base_uri": "https://localhost:8080/"
        },
        "id": "sH3k0RSMYHej",
        "outputId": "6c252237-38b8-4bc9-b1e7-d2c2027d853a"
      },
      "source": [
        "# Create dataset batches for model with image augmentation\n",
        "from tensorflow.keras.preprocessing.image import ImageDataGenerator\n",
        "\n",
        "train_datagen = ImageDataGenerator(\n",
        "    rotation_range=90,\n",
        "    width_shift_range=0.2,\n",
        "    height_shift_range=0.2,\n",
        "    shear_range=0.2,\n",
        "    zoom_range=0.2,\n",
        "    horizontal_flip=True,)\n",
        "\n",
        "val_datagen = ImageDataGenerator()\n",
        "\n",
        "train_generator = train_datagen.flow_from_directory(\n",
        "        train_dir,  # This is the source directory for training images\n",
        "        target_size=(150, 150),  # All images will be resized to 150x150\n",
        "        batch_size=64,\n",
        "        seed=1)\n",
        "\n",
        "validation_generator = val_datagen.flow_from_directory(\n",
        "        test_dir,\n",
        "        shuffle=False,\n",
        "        target_size=(150, 150),\n",
        "        batch_size=64,\n",
        "        seed=1)\n",
        "\n",
        "pred_datagen = ImageDataGenerator()\n",
        "\n",
        "prediction_generator = pred_datagen.flow_from_directory(\n",
        "        pred_dir,\n",
        "        shuffle=False,\n",
        "        target_size=(150, 150),\n",
        "        batch_size=64,\n",
        "        seed=1)\n"
      ],
      "execution_count": 22,
      "outputs": [
        {
          "output_type": "stream",
          "text": [
            "Found 14034 images belonging to 6 classes.\n",
            "Found 3000 images belonging to 6 classes.\n",
            "Found 7301 images belonging to 6 classes.\n"
          ],
          "name": "stdout"
        }
      ]
    },
    {
      "cell_type": "code",
      "metadata": {
        "id": "nP1-9fV5zmMP"
      },
      "source": [
        "# Compile model\n",
        "from keras.optimizers import SGD\n",
        "sgd = SGD(lr=0.001, decay=1e-7, momentum=.9)\n",
        "model.compile(loss='categorical_crossentropy', optimizer=sgd, metrics=['accuracy'])"
      ],
      "execution_count": 12,
      "outputs": []
    },
    {
      "cell_type": "code",
      "metadata": {
        "id": "-xntKc72zxSZ",
        "colab": {
          "base_uri": "https://localhost:8080/"
        },
        "outputId": "fafe839a-eba9-4f2e-9d62-08cdbcdd0fac"
      },
      "source": [
        "# Train model\n",
        "H = model.fit(\n",
        "      train_generator,\n",
        "      epochs=8,\n",
        "      validation_data=validation_generator,\n",
        "      verbose=1) "
      ],
      "execution_count": 13,
      "outputs": [
        {
          "output_type": "stream",
          "text": [
            "Epoch 1/8\n",
            "220/220 [==============================] - 3247s 15s/step - loss: 0.9887 - accuracy: 0.7256 - val_loss: 0.3352 - val_accuracy: 0.8833\n",
            "Epoch 2/8\n",
            "220/220 [==============================] - 99s 448ms/step - loss: 0.4128 - accuracy: 0.8518 - val_loss: 0.3044 - val_accuracy: 0.8877\n",
            "Epoch 3/8\n",
            "220/220 [==============================] - 98s 444ms/step - loss: 0.3499 - accuracy: 0.8708 - val_loss: 0.2942 - val_accuracy: 0.8943\n",
            "Epoch 4/8\n",
            "220/220 [==============================] - 98s 446ms/step - loss: 0.3389 - accuracy: 0.8751 - val_loss: 0.2868 - val_accuracy: 0.9007\n",
            "Epoch 5/8\n",
            "220/220 [==============================] - 98s 444ms/step - loss: 0.3322 - accuracy: 0.8780 - val_loss: 0.3038 - val_accuracy: 0.9003\n",
            "Epoch 6/8\n",
            "220/220 [==============================] - 98s 446ms/step - loss: 0.3161 - accuracy: 0.8831 - val_loss: 0.2748 - val_accuracy: 0.9000\n",
            "Epoch 7/8\n",
            "220/220 [==============================] - 98s 446ms/step - loss: 0.3040 - accuracy: 0.8891 - val_loss: 0.2698 - val_accuracy: 0.9017\n",
            "Epoch 8/8\n",
            "220/220 [==============================] - 98s 444ms/step - loss: 0.2989 - accuracy: 0.8929 - val_loss: 0.2622 - val_accuracy: 0.9073\n"
          ],
          "name": "stdout"
        }
      ]
    },
    {
      "cell_type": "code",
      "metadata": {
        "colab": {
          "base_uri": "https://localhost:8080/",
          "height": 573
        },
        "id": "20rw_716e-9Y",
        "outputId": "78dfa791-6980-498b-fc77-0a372b9ed83b"
      },
      "source": [
        "# summarize history for accuracy\n",
        "plt.plot(H.history['accuracy'])\n",
        "plt.plot(H.history['val_accuracy'])\n",
        "plt.title('model accuracy')\n",
        "plt.ylabel('accuracy')\n",
        "plt.xlabel('epoch')\n",
        "plt.legend(['train', 'test'], loc='upper left')\n",
        "plt.show()\n",
        "# summarize history for loss\n",
        "plt.plot(H.history['loss'])\n",
        "plt.plot(H.history['val_loss'])\n",
        "plt.title('model loss')\n",
        "plt.ylabel('loss')\n",
        "plt.xlabel('epoch')\n",
        "plt.legend(['train', 'test'], loc='upper left')\n",
        "plt.show()"
      ],
      "execution_count": 14,
      "outputs": [
        {
          "output_type": "display_data",
          "data": {
            "image/png": "[encoded data removed]",
            "text/plain": [
              "<Figure size 432x288 with 1 Axes>"
            ]
          },
          "metadata": {
            "tags": [],
            "needs_background": "light"
          }
        },
        {
          "output_type": "display_data",
          "data": {
            "image/png": "[encoded data removed]",
            "text/plain": [
              "<Figure size 432x288 with 1 Axes>"
            ]
          },
          "metadata": {
            "tags": [],
            "needs_background": "light"
          }
        }
      ]
    },
    {
      "cell_type": "code",
      "metadata": {
        "id": "H3xmn5JIz4cS"
      },
      "source": [
        "# save the model's trained weights\n",
        "model.save_weights(path + 'resnet_transfer_trained_wts.h5')"
      ],
      "execution_count": 41,
      "outputs": []
    },
    {
      "cell_type": "code",
      "metadata": {
        "id": "1TGO_dG3wL-o"
      },
      "source": [
        "# load the model's trained weights\n",
        "model.load_weights(path + 'resnet_transfer_trained_wts.h5')"
      ],
      "execution_count": 15,
      "outputs": []
    },
    {
      "cell_type": "code",
      "metadata": {
        "id": "ZD8eNNXz0FMX",
        "colab": {
          "base_uri": "https://localhost:8080/"
        },
        "outputId": "9d11f382-79f8-4afe-da7f-b1e02021c157"
      },
      "source": [
        "# evaluate the model on a test dataset\n",
        "results = model.evaluate(prediction_generator, batch_size=64, verbose=1)\n",
        "print(\"test loss, test acc:\", results)"
      ],
      "execution_count": 23,
      "outputs": [
        {
          "output_type": "stream",
          "text": [
            "115/115 [==============================] - 16s 138ms/step - loss: 0.3649 - accuracy: 0.8821\n",
            "test loss, test acc: [0.3648953139781952, 0.8820709586143494]\n"
          ],
          "name": "stdout"
        }
      ]
    },
    {
      "cell_type": "code",
      "metadata": {
        "id": "5VUjRckv0GXy",
        "colab": {
          "base_uri": "https://localhost:8080/"
        },
        "outputId": "28ea2d52-5da9-4e42-e877-c8953060ec64"
      },
      "source": [
        "# model prediction\n",
        "prediction = model.predict(prediction_generator, batch_size=64, verbose=1)"
      ],
      "execution_count": 24,
      "outputs": [
        {
          "output_type": "stream",
          "text": [
            "115/115 [==============================] - 15s 134ms/step\n"
          ],
          "name": "stdout"
        }
      ]
    },
    {
      "cell_type": "code",
      "metadata": {
        "colab": {
          "base_uri": "https://localhost:8080/"
        },
        "id": "f0UXqEnboqWn",
        "outputId": "4e0fb59a-b806-4dff-d642-d95ff048bb83"
      },
      "source": [
        "# Confusion Matrix\n",
        "from sklearn.metrics import classification_report, confusion_matrix\n",
        "pred = np.argmax(prediction, axis=1)\n",
        "print('Confusion Matrix:')\n",
        "print(confusion_matrix(prediction_generator.classes, pred))"
      ],
      "execution_count": 38,
      "outputs": [
        {
          "output_type": "stream",
          "text": [
            "Confusion Matrix:\n",
            "[[1006    4    7    2   12  113]\n",
            " [   3 1144    3    7    4    5]\n",
            " [   3    7 1020  242   53    5]\n",
            " [   5    7   73 1140   70    2]\n",
            " [  11    7   35   73  993    9]\n",
            " [  67   10    9    4    9 1137]]\n"
          ],
          "name": "stdout"
        }
      ]
    },
    {
      "cell_type": "code",
      "metadata": {
        "colab": {
          "base_uri": "https://localhost:8080/"
        },
        "id": "FlDY1rQWp3dZ",
        "outputId": "5898bc76-5f12-49f1-fa61-8709815ebb3c"
      },
      "source": [
        "# Classification Report\n",
        "print('Classification Report:')\n",
        "target_names = ['Buildings', 'Forest', 'Glacier', 'Mountain', 'Sea', 'Street']\n",
        "print(classification_report(prediction_generator.classes, pred, target_names=target_names))"
      ],
      "execution_count": 39,
      "outputs": [
        {
          "output_type": "stream",
          "text": [
            "Classification Report:\n",
            "              precision    recall  f1-score   support\n",
            "\n",
            "   Buildings       0.92      0.88      0.90      1144\n",
            "      Forest       0.97      0.98      0.98      1166\n",
            "     Glacier       0.89      0.77      0.82      1330\n",
            "    Mountain       0.78      0.88      0.82      1297\n",
            "         Sea       0.87      0.88      0.88      1128\n",
            "      Street       0.89      0.92      0.91      1236\n",
            "\n",
            "    accuracy                           0.88      7301\n",
            "   macro avg       0.89      0.88      0.88      7301\n",
            "weighted avg       0.88      0.88      0.88      7301\n",
            "\n"
          ],
          "name": "stdout"
        }
      ]
    },
    {
      "cell_type": "code",
      "metadata": {
        "colab": {
          "base_uri": "https://localhost:8080/"
        },
        "id": "p927dOSp1q_R",
        "outputId": "47d76a0e-4fd8-4257-98d6-12dec349d892"
      },
      "source": [
        "# Visual Results\n",
        "vis_datagen = ImageDataGenerator()\n",
        "\n",
        "vis_generator = vis_datagen.flow_from_directory(\n",
        "        vis_dir, \n",
        "        shuffle=False, \n",
        "        target_size=(150, 150),  # All images will be resized to 150x150\n",
        "        batch_size=1,\n",
        "        seed=1)\n",
        "\n",
        "visual = model.predict(vis_generator, batch_size=1, verbose=1)\n",
        "vis = np.argmax(visual, axis=1)\n",
        "print('Confusion Matrix:')\n",
        "print(confusion_matrix(vis_generator.classes, vis))\n"
      ],
      "execution_count": 43,
      "outputs": [
        {
          "output_type": "stream",
          "text": [
            "Found 6 images belonging to 6 classes.\n",
            "6/6 [==============================] - 0s 17ms/step\n",
            "Confusion Matrix:\n",
            "[[1 0 0 0 0 0]\n",
            " [0 1 0 0 0 0]\n",
            " [0 0 1 0 0 0]\n",
            " [0 0 0 1 0 0]\n",
            " [0 0 0 1 0 0]\n",
            " [0 0 0 0 0 1]]\n"
          ],
          "name": "stdout"
        }
      ]
    }
  ]
}